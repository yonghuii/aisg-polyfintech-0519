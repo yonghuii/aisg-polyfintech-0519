{
 "cells": [
  {
   "cell_type": "markdown",
   "metadata": {},
   "source": [
    "<img src=\"https://gallery.mailchimp.com/f98d5ac0a3fbbdcdda35136ab/images/370b1236-88aa-4969-b768-cd07bd006d8c.png\">"
   ]
  },
  {
   "cell_type": "markdown",
   "metadata": {},
   "source": [
    "# Computer Vision APIs (with [Clarifai](https://clarifai.com/))\n",
    "\n",
    "<img src='../assets/clarifai-logo.png' style='width:300px'>\n",
    "\n",
    "First, let us install the relevant package for us to interact with Clarifai's API."
   ]
  },
  {
   "cell_type": "code",
   "execution_count": null,
   "metadata": {},
   "outputs": [],
   "source": [
    "!pip install clarifai --upgrade"
   ]
  },
  {
   "cell_type": "markdown",
   "metadata": {},
   "source": [
    "Now that we have installed the package, we call upon the relevant package to to initialise the API. Replace `YOUR_API_KEY` with the API keys obtained from the [Clarifai apps portal](https://clarifai.com/apps). What this means is that you have to first create an app through the portal."
   ]
  },
  {
   "cell_type": "code",
   "execution_count": null,
   "metadata": {},
   "outputs": [],
   "source": [
    "API_KEY = 'YOUR_CLARIFAI_API_KEY_HERE'"
   ]
  },
  {
   "cell_type": "markdown",
   "metadata": {},
   "source": [
    "Now that you have stored your API key in a variable, let us initialise the application."
   ]
  },
  {
   "cell_type": "code",
   "execution_count": null,
   "metadata": {},
   "outputs": [],
   "source": [
    "from clarifai.rest import ClarifaiApp\n",
    "\n",
    "app = ClarifaiApp(api_key=API_KEY)"
   ]
  },
  {
   "cell_type": "markdown",
   "metadata": {},
   "source": [
    "From the initialised app, we have to define which model we would like to utilise. Clarifai has a selection of [pretrained models](https://clarifai.com/models) that we can utilise. For now, let us stick with the [general model](https://clarifai.com/models/general-image-recognition-model-aaa03c23b3724a16a56b629203edc62c) which allows us to do generic computer vision detection of subjects."
   ]
  },
  {
   "cell_type": "code",
   "execution_count": null,
   "metadata": {},
   "outputs": [],
   "source": []
  },
  {
   "cell_type": "markdown",
   "metadata": {},
   "source": [
    "Now, we have the model provide us with predictions pertaining to the image link that we have provided. \n",
    "\n",
    "The image link brings us to this image:\n",
    "\n",
    "<img src='https://images.pexels.com/photos/326012/pexels-photo-326012.jpeg' style='width:300px'>"
   ]
  },
  {
   "cell_type": "code",
   "execution_count": null,
   "metadata": {},
   "outputs": [],
   "source": [
    "# Store the response from the API into a variable\n",
    "# URL: https://images.pexels.com/photos/326012/pexels-photo-326012.jpeg\n"
   ]
  },
  {
   "cell_type": "markdown",
   "metadata": {},
   "source": [
    "Let us observe the response provided by the API."
   ]
  },
  {
   "cell_type": "code",
   "execution_count": null,
   "metadata": {
    "scrolled": true
   },
   "outputs": [],
   "source": []
  },
  {
   "cell_type": "markdown",
   "metadata": {},
   "source": [
    "The output above can be convoluted at first look but let us filter the information that we need."
   ]
  },
  {
   "cell_type": "code",
   "execution_count": null,
   "metadata": {
    "scrolled": true
   },
   "outputs": [],
   "source": []
  },
  {
   "cell_type": "markdown",
   "metadata": {},
   "source": [
    "We can see that the model gives us several possible descriptions of the image that was provided to it and for each of them, a value is given. This value pertains to its confidence level in regards to the descriptions. For example, the prediction 'rabbit' has the value '0.9987' so the model is 99.87% confident that the image provided is of a rabbit.\n",
    "\n",
    "Below, we will try to convert the output into a `pandas` dataframe format which is more readable."
   ]
  },
  {
   "cell_type": "code",
   "execution_count": null,
   "metadata": {},
   "outputs": [],
   "source": [
    "\n"
   ]
  },
  {
   "cell_type": "code",
   "execution_count": null,
   "metadata": {
    "scrolled": true
   },
   "outputs": [],
   "source": [
    "\n"
   ]
  },
  {
   "cell_type": "markdown",
   "metadata": {},
   "source": [
    "## Creating a model\n",
    "\n",
    "The example that we have run above relies on pretrained classifiers that Clarifai has set up and train beforehand. What we can also do with Clarifai is to create our custom classifiers, while tapping on to the deep learning architectures and model that Clarifai has. One can keep in mind that this is the usage of transfer learning as we are going to utilise an already existing architecture and simply tweaking it to our own use case.\n",
    "\n",
    "In this example that we are about to carry out, we are going to create a custom model that allows us to predict whether a certain image shows the following outputs:\n",
    "+ rabbit\n",
    "+ not rabbit\n",
    "\n",
    "<img src='https://images.pexels.com/photos/326012/pexels-photo-326012.jpeg' style='width:300px'>\n",
    "<img src='https://images.pexels.com/photos/151511/pexels-photo-151511.jpeg' style='width:300px'>\n",
    "\n",
    "In order to train our custom model, we first have to upload some images to train the model on."
   ]
  },
  {
   "cell_type": "code",
   "execution_count": null,
   "metadata": {
    "scrolled": true
   },
   "outputs": [],
   "source": [
    "# Upload an image that pertains to 'rabbit' concept/classification\n",
    "app.inputs.create_image_from_url(url='https://images.pexels.com/photos/326012/pexels-photo-326012.jpeg', concepts=['rabbit'])\n",
    "# Upload an image that pertains to 'not rabbit' concept/classification\n",
    "app.inputs.create_image_from_url(url='https://images.pexels.com/photos/151511/pexels-photo-151511.jpeg', not_concepts=['rabbit'])"
   ]
  },
  {
   "cell_type": "markdown",
   "metadata": {},
   "source": [
    "After uploading the images, we initialise a custom model and name it. To this model, we can associate the concepts/classifications that we are tasking for it. In this case, we just associate it with the concept `rabbit`."
   ]
  },
  {
   "cell_type": "code",
   "execution_count": null,
   "metadata": {},
   "outputs": [],
   "source": []
  },
  {
   "cell_type": "markdown",
   "metadata": {},
   "source": [
    "We run the following to start the training process; the model will train on the images that you have uploaded above."
   ]
  },
  {
   "cell_type": "code",
   "execution_count": null,
   "metadata": {},
   "outputs": [],
   "source": []
  },
  {
   "cell_type": "markdown",
   "metadata": {},
   "source": [
    "These custom models once trained, can be stored and readied for whenever we intend to use them. Below is how we call upon them."
   ]
  },
  {
   "cell_type": "code",
   "execution_count": null,
   "metadata": {},
   "outputs": [],
   "source": []
  },
  {
   "cell_type": "markdown",
   "metadata": {},
   "source": [
    "Here is how you use the model to conduct a prediction on an image by URL.\n",
    "\n",
    "<img src='https://images.pexels.com/photos/53966/rabbit-palm-hand-snatch-53966.jpeg' style='width:500px'>"
   ]
  },
  {
   "cell_type": "code",
   "execution_count": null,
   "metadata": {},
   "outputs": [],
   "source": [
    "# URL: https://images.pexels.com/photos/53966/rabbit-palm-hand-snatch-53966.jpeg\n"
   ]
  },
  {
   "cell_type": "markdown",
   "metadata": {},
   "source": [
    "Let us examine the results."
   ]
  },
  {
   "cell_type": "code",
   "execution_count": null,
   "metadata": {},
   "outputs": [],
   "source": []
  },
  {
   "cell_type": "markdown",
   "metadata": {},
   "source": [
    "The confidence value for this image in whether it's a rabbit or not is very low even though the image clearly shows of a rabbit. This is predictable as we have trained the model using only two images when one should utilise way more.\n",
    "\n",
    "For fun, examine the model's performance on the same image that it was trained on.\n",
    "\n",
    "<img src='https://images.pexels.com/photos/326012/pexels-photo-326012.jpeg' style='width:300px'>"
   ]
  },
  {
   "cell_type": "code",
   "execution_count": null,
   "metadata": {},
   "outputs": [],
   "source": [
    "# URL: https://images.pexels.com/photos/326012/pexels-photo-326012.jpeg\n"
   ]
  },
  {
   "cell_type": "code",
   "execution_count": null,
   "metadata": {},
   "outputs": [],
   "source": []
  },
  {
   "cell_type": "markdown",
   "metadata": {},
   "source": [
    "The value is high is expected."
   ]
  },
  {
   "cell_type": "markdown",
   "metadata": {},
   "source": [
    "<center> <h1>~ End of section ~</h1> </center>"
   ]
  }
 ],
 "metadata": {
  "kernelspec": {
   "display_name": "Python 3",
   "language": "python",
   "name": "python3"
  },
  "language_info": {
   "codemirror_mode": {
    "name": "ipython",
    "version": 3
   },
   "file_extension": ".py",
   "mimetype": "text/x-python",
   "name": "python",
   "nbconvert_exporter": "python",
   "pygments_lexer": "ipython3",
   "version": "3.6.5"
  }
 },
 "nbformat": 4,
 "nbformat_minor": 2
}
