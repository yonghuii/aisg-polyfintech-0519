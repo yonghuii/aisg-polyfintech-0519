{
 "cells": [
  {
   "cell_type": "markdown",
   "metadata": {},
   "source": [
    "<img src=\"https://gallery.mailchimp.com/f98d5ac0a3fbbdcdda35136ab/images/370b1236-88aa-4969-b768-cd07bd006d8c.png\">"
   ]
  },
  {
   "cell_type": "markdown",
   "metadata": {},
   "source": [
    "# Computer Vision APIs (with [Clarifai](https://clarifai.com/))\n",
    "\n",
    "<img src='../assets/clarifai-logo.png' style='width:300px'>\n",
    "\n",
    "First, let us install the relevant package for us to interact with Clarifai's API."
   ]
  },
  {
   "cell_type": "code",
   "execution_count": null,
   "metadata": {},
   "outputs": [],
   "source": [
    "!pip install clarifai --upgrade"
   ]
  },
  {
   "cell_type": "markdown",
   "metadata": {},
   "source": [
    "Now that we have installed the package, we call upon the relevant package to to initialise the API. Replace `YOUR_API_KEY` with the API keys obtained from the [Clarifai apps portal](https://clarifai.com/apps). What this means is that you have to first create an app through the portal."
   ]
  },
  {
   "cell_type": "code",
   "execution_count": 1,
   "metadata": {},
   "outputs": [],
   "source": [
    "API_KEY = 'YOUR_CLARIFAI_API_KEY_HERE'"
   ]
  },
  {
   "cell_type": "markdown",
   "metadata": {},
   "source": [
    "Now that you have stored your API key in a variable, let us initialise the application."
   ]
  },
  {
   "cell_type": "code",
   "execution_count": 2,
   "metadata": {},
   "outputs": [],
   "source": [
    "from clarifai.rest import ClarifaiApp\n",
    "\n",
    "app = ClarifaiApp(api_key=API_KEY)"
   ]
  },
  {
   "cell_type": "markdown",
   "metadata": {},
   "source": [
    "From the initialised app, we have to define which model we would like to utilise. Clarifai has a selection of [pretrained models](https://clarifai.com/models) that we can utilise. For now, let us stick with the [general model](https://clarifai.com/models/general-image-recognition-model-aaa03c23b3724a16a56b629203edc62c) which allows us to do generic computer vision detection of subjects."
   ]
  },
  {
   "cell_type": "code",
   "execution_count": 3,
   "metadata": {},
   "outputs": [],
   "source": [
    "model = app.public_models.general_model"
   ]
  },
  {
   "cell_type": "markdown",
   "metadata": {},
   "source": [
    "Now, we have the model provide us with predictions pertaining to the image link that we have provided. \n",
    "\n",
    "The image link brings us to this image:\n",
    "\n",
    "<img src='https://images.pexels.com/photos/326012/pexels-photo-326012.jpeg' style='width:300px'>"
   ]
  },
  {
   "cell_type": "code",
   "execution_count": 4,
   "metadata": {},
   "outputs": [],
   "source": [
    "# Store the response from the API into a variable\n",
    "response = model.predict_by_url(url='https://images.pexels.com/photos/326012/pexels-photo-326012.jpeg')"
   ]
  },
  {
   "cell_type": "markdown",
   "metadata": {},
   "source": [
    "Let us observe the response provided by the API."
   ]
  },
  {
   "cell_type": "code",
   "execution_count": 5,
   "metadata": {
    "scrolled": true
   },
   "outputs": [
    {
     "data": {
      "text/plain": [
       "{'status': {'code': 10000,\n",
       "  'description': 'Ok',\n",
       "  'req_id': '3049f6256b5342d5843aae8a355b682d'},\n",
       " 'outputs': [{'id': '9fbb81ff24774453abfe526c378c23a8',\n",
       "   'status': {'code': 10000, 'description': 'Ok'},\n",
       "   'created_at': '2019-05-12T22:07:08.607761322Z',\n",
       "   'model': {'id': 'aaa03c23b3724a16a56b629203edc62c',\n",
       "    'name': 'general',\n",
       "    'created_at': '2016-03-09T17:11:39.608845Z',\n",
       "    'app_id': 'main',\n",
       "    'output_info': {'message': 'Show output_info with: GET /models/{model_id}/output_info',\n",
       "     'type': 'concept',\n",
       "     'type_ext': 'concept'},\n",
       "    'model_version': {'id': 'aa9ca48295b37401f8af92ad1af0d91d',\n",
       "     'created_at': '2016-07-13T01:19:12.147644Z',\n",
       "     'status': {'code': 21100, 'description': 'Model trained successfully'}},\n",
       "    'display_name': 'General'},\n",
       "   'input': {'id': '037fc05e28f145b284434979d831ca3d',\n",
       "    'data': {'image': {'url': 'https://images.pexels.com/photos/326012/pexels-photo-326012.jpeg'}}},\n",
       "   'data': {'concepts': [{'id': 'ai_l6FJp7Lf',\n",
       "      'name': 'rabbit',\n",
       "      'value': 0.9987200498580933,\n",
       "      'app_id': 'main'},\n",
       "     {'id': 'ai_l2mHxdfZ',\n",
       "      'name': 'bunny',\n",
       "      'value': 0.9976458549499512,\n",
       "      'app_id': 'main'},\n",
       "     {'id': 'ai_K5cG7T4B',\n",
       "      'name': 'hare',\n",
       "      'value': 0.9890360236167908,\n",
       "      'app_id': 'main'},\n",
       "     {'id': 'ai_4CRlSvbV',\n",
       "      'name': 'cute',\n",
       "      'value': 0.9887425899505615,\n",
       "      'app_id': 'main'},\n",
       "     {'id': 'ai_N6BnC4br',\n",
       "      'name': 'mammal',\n",
       "      'value': 0.9868383407592773,\n",
       "      'app_id': 'main'},\n",
       "     {'id': 'ai_mp9KG5QH',\n",
       "      'name': 'grass',\n",
       "      'value': 0.9835637807846069,\n",
       "      'app_id': 'main'},\n",
       "     {'id': 'ai_Cj7dpk3Z',\n",
       "      'name': 'Easter',\n",
       "      'value': 0.9818881154060364,\n",
       "      'app_id': 'main'},\n",
       "     {'id': 'ai_SzsXMB1w',\n",
       "      'name': 'animal',\n",
       "      'value': 0.9669061899185181,\n",
       "      'app_id': 'main'},\n",
       "     {'id': 'ai_wqgGDjK4',\n",
       "      'name': 'fur',\n",
       "      'value': 0.9618996381759644,\n",
       "      'app_id': 'main'},\n",
       "     {'id': 'ai_HsV5wmGX',\n",
       "      'name': 'rodent',\n",
       "      'value': 0.9500438570976257,\n",
       "      'app_id': 'main'},\n",
       "     {'id': 'ai_gPNNX7LT',\n",
       "      'name': 'pet',\n",
       "      'value': 0.9426288604736328,\n",
       "      'app_id': 'main'},\n",
       "     {'id': 'ai_786Zr311',\n",
       "      'name': 'no person',\n",
       "      'value': 0.939948320388794,\n",
       "      'app_id': 'main'},\n",
       "     {'id': 'ai_R67cVW5t',\n",
       "      'name': 'sit',\n",
       "      'value': 0.9265615940093994,\n",
       "      'app_id': 'main'},\n",
       "     {'id': 'ai_BpnQsTtg',\n",
       "      'name': 'young',\n",
       "      'value': 0.9265094995498657,\n",
       "      'app_id': 'main'},\n",
       "     {'id': 'ai_xWCNmTbf',\n",
       "      'name': 'adorable',\n",
       "      'value': 0.9117003679275513,\n",
       "      'app_id': 'main'},\n",
       "     {'id': 'ai_tBcWlsCp',\n",
       "      'name': 'nature',\n",
       "      'value': 0.9106179475784302,\n",
       "      'app_id': 'main'},\n",
       "     {'id': 'ai_HkqZwBbr',\n",
       "      'name': 'little',\n",
       "      'value': 0.9027261137962341,\n",
       "      'app_id': 'main'},\n",
       "     {'id': 'ai_cNfpjTnr',\n",
       "      'name': 'furry',\n",
       "      'value': 0.888695240020752,\n",
       "      'app_id': 'main'},\n",
       "     {'id': 'ai_fbqvMwRm',\n",
       "      'name': 'wildlife',\n",
       "      'value': 0.883059024810791,\n",
       "      'app_id': 'main'},\n",
       "     {'id': 'ai_QGHBfsBT',\n",
       "      'name': 'funny',\n",
       "      'value': 0.8752177357673645,\n",
       "      'app_id': 'main'}]}}]}"
      ]
     },
     "execution_count": 5,
     "metadata": {},
     "output_type": "execute_result"
    }
   ],
   "source": [
    "response"
   ]
  },
  {
   "cell_type": "markdown",
   "metadata": {},
   "source": [
    "The output above can be convoluted at first look but let us filter the information that we need."
   ]
  },
  {
   "cell_type": "code",
   "execution_count": 6,
   "metadata": {
    "scrolled": true
   },
   "outputs": [
    {
     "data": {
      "text/plain": [
       "[{'id': 'ai_l6FJp7Lf',\n",
       "  'name': 'rabbit',\n",
       "  'value': 0.9987200498580933,\n",
       "  'app_id': 'main'},\n",
       " {'id': 'ai_l2mHxdfZ',\n",
       "  'name': 'bunny',\n",
       "  'value': 0.9976458549499512,\n",
       "  'app_id': 'main'},\n",
       " {'id': 'ai_K5cG7T4B',\n",
       "  'name': 'hare',\n",
       "  'value': 0.9890360236167908,\n",
       "  'app_id': 'main'},\n",
       " {'id': 'ai_4CRlSvbV',\n",
       "  'name': 'cute',\n",
       "  'value': 0.9887425899505615,\n",
       "  'app_id': 'main'},\n",
       " {'id': 'ai_N6BnC4br',\n",
       "  'name': 'mammal',\n",
       "  'value': 0.9868383407592773,\n",
       "  'app_id': 'main'},\n",
       " {'id': 'ai_mp9KG5QH',\n",
       "  'name': 'grass',\n",
       "  'value': 0.9835637807846069,\n",
       "  'app_id': 'main'},\n",
       " {'id': 'ai_Cj7dpk3Z',\n",
       "  'name': 'Easter',\n",
       "  'value': 0.9818881154060364,\n",
       "  'app_id': 'main'},\n",
       " {'id': 'ai_SzsXMB1w',\n",
       "  'name': 'animal',\n",
       "  'value': 0.9669061899185181,\n",
       "  'app_id': 'main'},\n",
       " {'id': 'ai_wqgGDjK4',\n",
       "  'name': 'fur',\n",
       "  'value': 0.9618996381759644,\n",
       "  'app_id': 'main'},\n",
       " {'id': 'ai_HsV5wmGX',\n",
       "  'name': 'rodent',\n",
       "  'value': 0.9500438570976257,\n",
       "  'app_id': 'main'},\n",
       " {'id': 'ai_gPNNX7LT',\n",
       "  'name': 'pet',\n",
       "  'value': 0.9426288604736328,\n",
       "  'app_id': 'main'},\n",
       " {'id': 'ai_786Zr311',\n",
       "  'name': 'no person',\n",
       "  'value': 0.939948320388794,\n",
       "  'app_id': 'main'},\n",
       " {'id': 'ai_R67cVW5t',\n",
       "  'name': 'sit',\n",
       "  'value': 0.9265615940093994,\n",
       "  'app_id': 'main'},\n",
       " {'id': 'ai_BpnQsTtg',\n",
       "  'name': 'young',\n",
       "  'value': 0.9265094995498657,\n",
       "  'app_id': 'main'},\n",
       " {'id': 'ai_xWCNmTbf',\n",
       "  'name': 'adorable',\n",
       "  'value': 0.9117003679275513,\n",
       "  'app_id': 'main'},\n",
       " {'id': 'ai_tBcWlsCp',\n",
       "  'name': 'nature',\n",
       "  'value': 0.9106179475784302,\n",
       "  'app_id': 'main'},\n",
       " {'id': 'ai_HkqZwBbr',\n",
       "  'name': 'little',\n",
       "  'value': 0.9027261137962341,\n",
       "  'app_id': 'main'},\n",
       " {'id': 'ai_cNfpjTnr',\n",
       "  'name': 'furry',\n",
       "  'value': 0.888695240020752,\n",
       "  'app_id': 'main'},\n",
       " {'id': 'ai_fbqvMwRm',\n",
       "  'name': 'wildlife',\n",
       "  'value': 0.883059024810791,\n",
       "  'app_id': 'main'},\n",
       " {'id': 'ai_QGHBfsBT',\n",
       "  'name': 'funny',\n",
       "  'value': 0.8752177357673645,\n",
       "  'app_id': 'main'}]"
      ]
     },
     "execution_count": 6,
     "metadata": {},
     "output_type": "execute_result"
    }
   ],
   "source": [
    "response['outputs'][0]['data']['concepts']"
   ]
  },
  {
   "cell_type": "markdown",
   "metadata": {},
   "source": [
    "We can see that the model gives us several possible descriptions of the image that was provided to it and for each of them, a value is given. This value pertains to its confidence level in regards to the descriptions. For example, the prediction 'rabbit' has the value '0.9987' so the model is 99.87% confident that the image provided is of a rabbit.\n",
    "\n",
    "Below, we will try to convert the output into a `pandas` dataframe format which is more readable."
   ]
  },
  {
   "cell_type": "code",
   "execution_count": 7,
   "metadata": {},
   "outputs": [],
   "source": [
    "from pandas.io.json import json_normalize\n",
    "import pandas as pd"
   ]
  },
  {
   "cell_type": "code",
   "execution_count": 8,
   "metadata": {
    "scrolled": true
   },
   "outputs": [
    {
     "data": {
      "text/html": [
       "<div>\n",
       "<style scoped>\n",
       "    .dataframe tbody tr th:only-of-type {\n",
       "        vertical-align: middle;\n",
       "    }\n",
       "\n",
       "    .dataframe tbody tr th {\n",
       "        vertical-align: top;\n",
       "    }\n",
       "\n",
       "    .dataframe thead th {\n",
       "        text-align: right;\n",
       "    }\n",
       "</style>\n",
       "<table border=\"1\" class=\"dataframe\">\n",
       "  <thead>\n",
       "    <tr style=\"text-align: right;\">\n",
       "      <th></th>\n",
       "      <th>app_id</th>\n",
       "      <th>id</th>\n",
       "      <th>name</th>\n",
       "      <th>value</th>\n",
       "    </tr>\n",
       "  </thead>\n",
       "  <tbody>\n",
       "    <tr>\n",
       "      <th>0</th>\n",
       "      <td>main</td>\n",
       "      <td>ai_l6FJp7Lf</td>\n",
       "      <td>rabbit</td>\n",
       "      <td>0.998720</td>\n",
       "    </tr>\n",
       "    <tr>\n",
       "      <th>1</th>\n",
       "      <td>main</td>\n",
       "      <td>ai_l2mHxdfZ</td>\n",
       "      <td>bunny</td>\n",
       "      <td>0.997646</td>\n",
       "    </tr>\n",
       "    <tr>\n",
       "      <th>2</th>\n",
       "      <td>main</td>\n",
       "      <td>ai_K5cG7T4B</td>\n",
       "      <td>hare</td>\n",
       "      <td>0.989036</td>\n",
       "    </tr>\n",
       "    <tr>\n",
       "      <th>3</th>\n",
       "      <td>main</td>\n",
       "      <td>ai_4CRlSvbV</td>\n",
       "      <td>cute</td>\n",
       "      <td>0.988743</td>\n",
       "    </tr>\n",
       "    <tr>\n",
       "      <th>4</th>\n",
       "      <td>main</td>\n",
       "      <td>ai_N6BnC4br</td>\n",
       "      <td>mammal</td>\n",
       "      <td>0.986838</td>\n",
       "    </tr>\n",
       "    <tr>\n",
       "      <th>5</th>\n",
       "      <td>main</td>\n",
       "      <td>ai_mp9KG5QH</td>\n",
       "      <td>grass</td>\n",
       "      <td>0.983564</td>\n",
       "    </tr>\n",
       "    <tr>\n",
       "      <th>6</th>\n",
       "      <td>main</td>\n",
       "      <td>ai_Cj7dpk3Z</td>\n",
       "      <td>Easter</td>\n",
       "      <td>0.981888</td>\n",
       "    </tr>\n",
       "    <tr>\n",
       "      <th>7</th>\n",
       "      <td>main</td>\n",
       "      <td>ai_SzsXMB1w</td>\n",
       "      <td>animal</td>\n",
       "      <td>0.966906</td>\n",
       "    </tr>\n",
       "    <tr>\n",
       "      <th>8</th>\n",
       "      <td>main</td>\n",
       "      <td>ai_wqgGDjK4</td>\n",
       "      <td>fur</td>\n",
       "      <td>0.961900</td>\n",
       "    </tr>\n",
       "    <tr>\n",
       "      <th>9</th>\n",
       "      <td>main</td>\n",
       "      <td>ai_HsV5wmGX</td>\n",
       "      <td>rodent</td>\n",
       "      <td>0.950044</td>\n",
       "    </tr>\n",
       "    <tr>\n",
       "      <th>10</th>\n",
       "      <td>main</td>\n",
       "      <td>ai_gPNNX7LT</td>\n",
       "      <td>pet</td>\n",
       "      <td>0.942629</td>\n",
       "    </tr>\n",
       "    <tr>\n",
       "      <th>11</th>\n",
       "      <td>main</td>\n",
       "      <td>ai_786Zr311</td>\n",
       "      <td>no person</td>\n",
       "      <td>0.939948</td>\n",
       "    </tr>\n",
       "    <tr>\n",
       "      <th>12</th>\n",
       "      <td>main</td>\n",
       "      <td>ai_R67cVW5t</td>\n",
       "      <td>sit</td>\n",
       "      <td>0.926562</td>\n",
       "    </tr>\n",
       "    <tr>\n",
       "      <th>13</th>\n",
       "      <td>main</td>\n",
       "      <td>ai_BpnQsTtg</td>\n",
       "      <td>young</td>\n",
       "      <td>0.926509</td>\n",
       "    </tr>\n",
       "    <tr>\n",
       "      <th>14</th>\n",
       "      <td>main</td>\n",
       "      <td>ai_xWCNmTbf</td>\n",
       "      <td>adorable</td>\n",
       "      <td>0.911700</td>\n",
       "    </tr>\n",
       "    <tr>\n",
       "      <th>15</th>\n",
       "      <td>main</td>\n",
       "      <td>ai_tBcWlsCp</td>\n",
       "      <td>nature</td>\n",
       "      <td>0.910618</td>\n",
       "    </tr>\n",
       "    <tr>\n",
       "      <th>16</th>\n",
       "      <td>main</td>\n",
       "      <td>ai_HkqZwBbr</td>\n",
       "      <td>little</td>\n",
       "      <td>0.902726</td>\n",
       "    </tr>\n",
       "    <tr>\n",
       "      <th>17</th>\n",
       "      <td>main</td>\n",
       "      <td>ai_cNfpjTnr</td>\n",
       "      <td>furry</td>\n",
       "      <td>0.888695</td>\n",
       "    </tr>\n",
       "    <tr>\n",
       "      <th>18</th>\n",
       "      <td>main</td>\n",
       "      <td>ai_fbqvMwRm</td>\n",
       "      <td>wildlife</td>\n",
       "      <td>0.883059</td>\n",
       "    </tr>\n",
       "    <tr>\n",
       "      <th>19</th>\n",
       "      <td>main</td>\n",
       "      <td>ai_QGHBfsBT</td>\n",
       "      <td>funny</td>\n",
       "      <td>0.875218</td>\n",
       "    </tr>\n",
       "  </tbody>\n",
       "</table>\n",
       "</div>"
      ],
      "text/plain": [
       "   app_id           id       name     value\n",
       "0    main  ai_l6FJp7Lf     rabbit  0.998720\n",
       "1    main  ai_l2mHxdfZ      bunny  0.997646\n",
       "2    main  ai_K5cG7T4B       hare  0.989036\n",
       "3    main  ai_4CRlSvbV       cute  0.988743\n",
       "4    main  ai_N6BnC4br     mammal  0.986838\n",
       "5    main  ai_mp9KG5QH      grass  0.983564\n",
       "6    main  ai_Cj7dpk3Z     Easter  0.981888\n",
       "7    main  ai_SzsXMB1w     animal  0.966906\n",
       "8    main  ai_wqgGDjK4        fur  0.961900\n",
       "9    main  ai_HsV5wmGX     rodent  0.950044\n",
       "10   main  ai_gPNNX7LT        pet  0.942629\n",
       "11   main  ai_786Zr311  no person  0.939948\n",
       "12   main  ai_R67cVW5t        sit  0.926562\n",
       "13   main  ai_BpnQsTtg      young  0.926509\n",
       "14   main  ai_xWCNmTbf   adorable  0.911700\n",
       "15   main  ai_tBcWlsCp     nature  0.910618\n",
       "16   main  ai_HkqZwBbr     little  0.902726\n",
       "17   main  ai_cNfpjTnr      furry  0.888695\n",
       "18   main  ai_fbqvMwRm   wildlife  0.883059\n",
       "19   main  ai_QGHBfsBT      funny  0.875218"
      ]
     },
     "execution_count": 8,
     "metadata": {},
     "output_type": "execute_result"
    }
   ],
   "source": [
    "clarif_res_df = json_normalize(response['outputs'][0]['data']['concepts'])\n",
    "clarif_res_df"
   ]
  },
  {
   "cell_type": "markdown",
   "metadata": {},
   "source": [
    "## Creating a model\n",
    "\n",
    "The example that we have run above relies on pretrained classifiers that Clarifai has set up and train beforehand. What we can also do with Clarifai is to create our custom classifiers, while tapping on to the deep learning architectures and model that Clarifai has. One can keep in mind that this is the usage of transfer learning as we are going to utilise an already existing architecture and simply tweaking it to our own use case.\n",
    "\n",
    "In this example that we are about to carry out, we are going to create a custom model that allows us to predict whether a certain image shows the following outputs:\n",
    "+ rabbit\n",
    "+ not rabbit\n",
    "\n",
    "<img src='https://images.pexels.com/photos/326012/pexels-photo-326012.jpeg' style='width:300px'>\n",
    "<img src='https://images.pexels.com/photos/151511/pexels-photo-151511.jpeg' style='width:300px'>\n",
    "\n",
    "In order to train our custom model, we first have to upload some images to train the model on."
   ]
  },
  {
   "cell_type": "code",
   "execution_count": 9,
   "metadata": {
    "scrolled": true
   },
   "outputs": [
    {
     "data": {
      "text/plain": [
       "<clarifai.rest.client.Image at 0x11b4aac88>"
      ]
     },
     "execution_count": 9,
     "metadata": {},
     "output_type": "execute_result"
    }
   ],
   "source": [
    "# Upload an image that pertains to 'rabbit' concept/classification\n",
    "app.inputs.create_image_from_url(url='https://images.pexels.com/photos/326012/pexels-photo-326012.jpeg', concepts=['rabbit'])\n",
    "# Upload an image that pertains to 'not rabbit' concept/classification\n",
    "app.inputs.create_image_from_url(url='https://images.pexels.com/photos/151511/pexels-photo-151511.jpeg', not_concepts=['rabbit'])"
   ]
  },
  {
   "cell_type": "markdown",
   "metadata": {},
   "source": [
    "After uploading the images, we initialise a custom model and name it. To this model, we can associate the concepts/classifications that we are tasking for it. In this case, we just associate it with the concept `rabbit`."
   ]
  },
  {
   "cell_type": "code",
   "execution_count": 10,
   "metadata": {},
   "outputs": [],
   "source": [
    "custom_model = app.models.create(model_id=\"rabbit_mod\", concepts=[\"rabbit\"])"
   ]
  },
  {
   "cell_type": "markdown",
   "metadata": {},
   "source": [
    "We run the following to start the training process; the model will train on the images that you have uploaded above."
   ]
  },
  {
   "cell_type": "code",
   "execution_count": 11,
   "metadata": {},
   "outputs": [
    {
     "data": {
      "text/plain": [
       "<clarifai.rest.client.Model at 0x10c13aa20>"
      ]
     },
     "execution_count": 11,
     "metadata": {},
     "output_type": "execute_result"
    }
   ],
   "source": [
    "custom_model.train()"
   ]
  },
  {
   "cell_type": "markdown",
   "metadata": {},
   "source": [
    "These custom models once trained, can be stored and readied for whenever we intend to use them. Below is how we call upon them."
   ]
  },
  {
   "cell_type": "code",
   "execution_count": 12,
   "metadata": {},
   "outputs": [],
   "source": [
    "imported_custom_model = app.models.get('rabbit_mod')"
   ]
  },
  {
   "cell_type": "markdown",
   "metadata": {},
   "source": [
    "Here is how you use the model to conduct a prediction on an image by URL.\n",
    "\n",
    "<img src='https://images.pexels.com/photos/53966/rabbit-palm-hand-snatch-53966.jpeg' style='width:500px'>"
   ]
  },
  {
   "cell_type": "code",
   "execution_count": 13,
   "metadata": {},
   "outputs": [],
   "source": [
    "pred_res = imported_custom_model.predict_by_url('https://images.pexels.com/photos/53966/rabbit-palm-hand-snatch-53966.jpeg')"
   ]
  },
  {
   "cell_type": "markdown",
   "metadata": {},
   "source": [
    "Let us examine the results."
   ]
  },
  {
   "cell_type": "code",
   "execution_count": 14,
   "metadata": {},
   "outputs": [
    {
     "data": {
      "text/plain": [
       "{'concepts': [{'id': 'rabbit',\n",
       "   'name': 'rabbit',\n",
       "   'value': 0.0006965667707845569,\n",
       "   'app_id': 'fc264822b6cb4e86ab62827edc3673fa'}]}"
      ]
     },
     "execution_count": 14,
     "metadata": {},
     "output_type": "execute_result"
    }
   ],
   "source": [
    "pred_res['outputs'][0]['data']"
   ]
  },
  {
   "cell_type": "markdown",
   "metadata": {},
   "source": [
    "The confidence value for this image in whether it's a rabbit or not is very low even though the image clearly shows of a rabbit. This is predictable as we have trained the model using only two images when one should utilise way more.\n",
    "\n",
    "For fun, examine the model's performance on the same image that it was trained on.\n",
    "\n",
    "<img src='https://images.pexels.com/photos/326012/pexels-photo-326012.jpeg' style='width:300px'>"
   ]
  },
  {
   "cell_type": "code",
   "execution_count": 15,
   "metadata": {},
   "outputs": [],
   "source": [
    "pred_res2 = imported_custom_model.predict_by_url('https://images.pexels.com/photos/326012/pexels-photo-326012.jpeg')"
   ]
  },
  {
   "cell_type": "code",
   "execution_count": 16,
   "metadata": {},
   "outputs": [
    {
     "data": {
      "text/plain": [
       "{'concepts': [{'id': 'rabbit',\n",
       "   'name': 'rabbit',\n",
       "   'value': 0.9994441866874695,\n",
       "   'app_id': 'fc264822b6cb4e86ab62827edc3673fa'}]}"
      ]
     },
     "execution_count": 16,
     "metadata": {},
     "output_type": "execute_result"
    }
   ],
   "source": [
    "pred_res2['outputs'][0]['data']"
   ]
  },
  {
   "cell_type": "markdown",
   "metadata": {},
   "source": [
    "The value is high is expected."
   ]
  },
  {
   "cell_type": "markdown",
   "metadata": {},
   "source": [
    "<center> <h1>~ End of section ~</h1> </center>"
   ]
  }
 ],
 "metadata": {
  "kernelspec": {
   "display_name": "Python 3",
   "language": "python",
   "name": "python3"
  },
  "language_info": {
   "codemirror_mode": {
    "name": "ipython",
    "version": 3
   },
   "file_extension": ".py",
   "mimetype": "text/x-python",
   "name": "python",
   "nbconvert_exporter": "python",
   "pygments_lexer": "ipython3",
   "version": "3.6.5"
  }
 },
 "nbformat": 4,
 "nbformat_minor": 2
}
