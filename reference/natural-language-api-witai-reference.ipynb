{
 "cells": [
  {
   "cell_type": "markdown",
   "metadata": {},
   "source": [
    "<img src=\"https://gallery.mailchimp.com/f98d5ac0a3fbbdcdda35136ab/images/370b1236-88aa-4969-b768-cd07bd006d8c.png\">"
   ]
  },
  {
   "cell_type": "markdown",
   "metadata": {},
   "source": [
    "# Natural Language APIs (with [Wit.ai](https://wit.ai))\n",
    "\n",
    "<img src='../assets/witai-logo-2.png' style='width:300px'>\n",
    "\n",
    "First, let us install the relevant package for us to interact with Wit.ai's API."
   ]
  },
  {
   "cell_type": "code",
   "execution_count": null,
   "metadata": {},
   "outputs": [],
   "source": [
    "!pip install wit"
   ]
  },
  {
   "cell_type": "markdown",
   "metadata": {},
   "source": [
    "After installation of the Python client (package), we import it."
   ]
  },
  {
   "cell_type": "code",
   "execution_count": 1,
   "metadata": {},
   "outputs": [],
   "source": [
    "from wit import Wit"
   ]
  },
  {
   "cell_type": "markdown",
   "metadata": {},
   "source": [
    "Copy and paste your app's API key into a variable. API keys can be obtained from the `Settings` tab."
   ]
  },
  {
   "cell_type": "code",
   "execution_count": 2,
   "metadata": {},
   "outputs": [],
   "source": [
    "API_KEY = 'YOUR_WITAI_API_KEY_HERE'"
   ]
  },
  {
   "cell_type": "markdown",
   "metadata": {},
   "source": [
    "Now that we have stored the API key in our environment, we now initialise the client."
   ]
  },
  {
   "cell_type": "code",
   "execution_count": 3,
   "metadata": {},
   "outputs": [],
   "source": [
    "client = Wit(API_KEY)"
   ]
  },
  {
   "cell_type": "markdown",
   "metadata": {},
   "source": [
    "After initialising the application, we now interact with the application."
   ]
  },
  {
   "cell_type": "markdown",
   "metadata": {},
   "source": [
    "## `get_weather` Intent\n",
    "\n",
    "Let us make the first interaction in regards to the `get_weather` intent that we have validated through the app console earlier."
   ]
  },
  {
   "cell_type": "code",
   "execution_count": 4,
   "metadata": {},
   "outputs": [],
   "source": [
    "weather_result = client.message('what\\'s is the weather like')"
   ]
  },
  {
   "cell_type": "markdown",
   "metadata": {},
   "source": [
    "With the above command, we have sent the expression `'what's the weather like'` to the app. Below, we can observe the result returned by the API."
   ]
  },
  {
   "cell_type": "code",
   "execution_count": 5,
   "metadata": {},
   "outputs": [
    {
     "name": "stdout",
     "output_type": "stream",
     "text": [
      "{'_text': \"what's is the weather like\", 'entities': {'intent': [{'confidence': 0.99810455050551, 'value': 'get_weather'}]}, 'msg_id': '1RDC8JszmDMfEwLUh'}\n"
     ]
    }
   ],
   "source": [
    "print(weather_result)"
   ]
  },
  {
   "cell_type": "markdown",
   "metadata": {},
   "source": [
    "As you can see, we are provided with a JSON output. We can still extract relevant information using simple indexing like how we do with Python dictionaries.\n",
    "\n",
    "What entities have been identified by the app?"
   ]
  },
  {
   "cell_type": "code",
   "execution_count": 6,
   "metadata": {},
   "outputs": [
    {
     "data": {
      "text/plain": [
       "{'intent': [{'confidence': 0.99810455050551, 'value': 'get_weather'}]}"
      ]
     },
     "execution_count": 6,
     "metadata": {},
     "output_type": "execute_result"
    }
   ],
   "source": [
    "# Entities identified\n",
    "weather_result['entities']"
   ]
  },
  {
   "cell_type": "code",
   "execution_count": 7,
   "metadata": {},
   "outputs": [
    {
     "data": {
      "text/plain": [
       "[{'confidence': 0.99810455050551, 'value': 'get_weather'}]"
      ]
     },
     "execution_count": 7,
     "metadata": {},
     "output_type": "execute_result"
    }
   ],
   "source": [
    "weather_result['entities']['intent']"
   ]
  },
  {
   "cell_type": "markdown",
   "metadata": {},
   "source": [
    "We can further observe the outputs like the value of the entities as well as confident level associated with the predictions/identifications."
   ]
  },
  {
   "cell_type": "code",
   "execution_count": 8,
   "metadata": {},
   "outputs": [
    {
     "data": {
      "text/plain": [
       "'get_weather'"
      ]
     },
     "execution_count": 8,
     "metadata": {},
     "output_type": "execute_result"
    }
   ],
   "source": [
    "weather_result['entities']['intent'][0]['value']"
   ]
  },
  {
   "cell_type": "code",
   "execution_count": 9,
   "metadata": {},
   "outputs": [
    {
     "data": {
      "text/plain": [
       "0.99810455050551"
      ]
     },
     "execution_count": 9,
     "metadata": {},
     "output_type": "execute_result"
    }
   ],
   "source": [
    "weather_result['entities']['intent'][0]['confidence']"
   ]
  },
  {
   "cell_type": "markdown",
   "metadata": {},
   "source": [
    "## `get_order` Intent\n",
    "\n",
    "Now, let us play with the `get_order` intent instead."
   ]
  },
  {
   "cell_type": "code",
   "execution_count": 10,
   "metadata": {},
   "outputs": [],
   "source": [
    "order_result = client.message('get me a cheese burger!')"
   ]
  },
  {
   "cell_type": "code",
   "execution_count": 11,
   "metadata": {},
   "outputs": [
    {
     "data": {
      "text/plain": [
       "{'_text': 'get me a cheese burger!',\n",
       " 'entities': {'burger_type': [{'confidence': 0.97406581069042,\n",
       "    'value': 'cheese',\n",
       "    'type': 'value'}],\n",
       "  'intent': [{'confidence': 0.99554384557103, 'value': 'order_burger'}]},\n",
       " 'msg_id': '1bukeO1iue2osQtp7'}"
      ]
     },
     "execution_count": 11,
     "metadata": {},
     "output_type": "execute_result"
    }
   ],
   "source": [
    "order_result"
   ]
  },
  {
   "cell_type": "code",
   "execution_count": 12,
   "metadata": {},
   "outputs": [
    {
     "data": {
      "text/plain": [
       "{'_text': 'get me two cheese burger',\n",
       " 'entities': {'burger_type': [{'confidence': 0.98435091089535,\n",
       "    'value': 'cheese',\n",
       "    'type': 'value'}],\n",
       "  'intent': [{'confidence': 0.99597426386406, 'value': 'order_burger'}]},\n",
       " 'msg_id': '1HuAZRAKvCJaoI0Y6'}"
      ]
     },
     "execution_count": 12,
     "metadata": {},
     "output_type": "execute_result"
    }
   ],
   "source": [
    "order_result2 = client.message('get me two cheese burger')\n",
    "order_result2"
   ]
  },
  {
   "cell_type": "markdown",
   "metadata": {},
   "source": [
    "As you can see, the app has not been trained well enough to detect the quantity entities. It is always recommended that you provide your app with as many expressions as you can."
   ]
  },
  {
   "cell_type": "markdown",
   "metadata": {},
   "source": [
    "## Using the `.speech` API\n",
    "\n",
    "Another great thing about the Wit.ai service is that you can leverage on their speech API as well. More details on their speech API can be found [here](https://wit.ai/docs/http/20160526#post__speech_link).\n",
    "\n",
    "We here open up the file and pass it an argument to the speech API."
   ]
  },
  {
   "cell_type": "code",
   "execution_count": 13,
   "metadata": {},
   "outputs": [],
   "source": [
    "with open('../assets/burger1.wav', 'rb') as f:\n",
    "  burger_speech = client.speech(audio_file=f, headers={'Content-Type': 'audio/wav'})"
   ]
  },
  {
   "cell_type": "markdown",
   "metadata": {},
   "source": [
    "Of course, like with the text inputs, we can examine the results obtained from the API."
   ]
  },
  {
   "cell_type": "code",
   "execution_count": 14,
   "metadata": {},
   "outputs": [
    {
     "data": {
      "text/plain": [
       "{'_text': 'get me two cheese burger',\n",
       " 'entities': {'burger_type': [{'confidence': 0.98435091089535,\n",
       "    'value': 'cheese',\n",
       "    'type': 'value'}],\n",
       "  'intent': [{'confidence': 0.99597426386406, 'value': 'order_burger'}]},\n",
       " 'msg_id': '1pyB7h1JVOI3JN9I9'}"
      ]
     },
     "execution_count": 14,
     "metadata": {},
     "output_type": "execute_result"
    }
   ],
   "source": [
    "burger_speech"
   ]
  },
  {
   "cell_type": "markdown",
   "metadata": {},
   "source": [
    "Play with another .wav file."
   ]
  },
  {
   "cell_type": "code",
   "execution_count": 15,
   "metadata": {},
   "outputs": [],
   "source": [
    "with open('../assets/weather1.wav', 'rb') as f:\n",
    "  weather_speech = client.speech(audio_file=f, headers={'Content-Type': 'audio/wav'})"
   ]
  },
  {
   "cell_type": "code",
   "execution_count": 16,
   "metadata": {},
   "outputs": [
    {
     "data": {
      "text/plain": [
       "{'_text': 'tell me about the weather',\n",
       " 'entities': {'intent': [{'confidence': 0.99719769495536,\n",
       "    'value': 'get_weather'}]},\n",
       " 'msg_id': '1weuWN52ld6QdX9gV'}"
      ]
     },
     "execution_count": 16,
     "metadata": {},
     "output_type": "execute_result"
    }
   ],
   "source": [
    "weather_speech"
   ]
  },
  {
   "cell_type": "markdown",
   "metadata": {},
   "source": [
    "<center> <h1>~ End of section ~</h1> </center>"
   ]
  }
 ],
 "metadata": {
  "kernelspec": {
   "display_name": "Python 3",
   "language": "python",
   "name": "python3"
  },
  "language_info": {
   "codemirror_mode": {
    "name": "ipython",
    "version": 3
   },
   "file_extension": ".py",
   "mimetype": "text/x-python",
   "name": "python",
   "nbconvert_exporter": "python",
   "pygments_lexer": "ipython3",
   "version": "3.6.5"
  }
 },
 "nbformat": 4,
 "nbformat_minor": 2
}
